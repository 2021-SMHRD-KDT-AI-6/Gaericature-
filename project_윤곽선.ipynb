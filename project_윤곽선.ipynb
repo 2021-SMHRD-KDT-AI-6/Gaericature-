{
 "cells": [
  {
   "cell_type": "markdown",
   "id": "2bdd2ca3",
   "metadata": {},
   "source": [
    "## 진행과정\n",
    "- openCV 로 윤곽선 그리기\n",
    "    - 회색이어야 기존 cartoonGAN변환시에 배경색이 많이 탁해지지않음.\n",
    "    - cartoonGAN parameter 조정필요함\n",
    "- 윤곽선을 사진에 따라 걸러내는 최소수치값의 조절이 필요함\n",
    "- 연한 회색일수록 탁해지지않음"
   ]
  },
  {
   "cell_type": "markdown",
   "id": "79a19cd6",
   "metadata": {},
   "source": [
    "## 이미지 불러오기"
   ]
  },
  {
   "cell_type": "code",
   "execution_count": null,
   "id": "5092b841",
   "metadata": {},
   "outputs": [],
   "source": [
    "img_bgr = cv2.imread('result_bg3.jpg')\n",
    "cv2.imshow(\"img_bgr\", img_bgr)\n",
    "pause()"
   ]
  },
  {
   "cell_type": "markdown",
   "id": "45572ba2",
   "metadata": {},
   "source": [
    "## 이미지 변환 및 윤곽선 씌우기"
   ]
  },
  {
   "cell_type": "code",
   "execution_count": 67,
   "id": "e2890a48",
   "metadata": {},
   "outputs": [],
   "source": [
    "img_bitwise_not_bgr = cv2.bitwise_not(img_bgr)\n",
    "cv2.imshow(\"img_bitwise_not_bgr\", img_bitwise_not_bgr)\n",
    "pause()\n",
    "\n",
    "img_bitwise_not_bgr2gray = cv2.cvtColor(img_bitwise_not_bgr, cv2.COLOR_BGR2GRAY)\n",
    "cv2.imshow(\"img_bitwise_not_bgr2gray\", img_bitwise_not_bgr2gray)\n",
    "pause()\n",
    "    \n",
    "ret, img_binary = cv2.threshold(img_bitwise_not_bgr2gray, 5, 255,cv2.THRESH_BINARY)\n",
    "cv2.imshow(\"img_binary\", img_binary)\n",
    "pause()\n",
    "\n",
    "contours, hierarchy = cv2.findContours(img_binary, cv2.RETR_EXTERNAL, cv2.CHAIN_APPROX_NONE)\n",
    "img_contour2 = cv2.drawContours(img_bgr, contours, -1, (224, 224, 224), 2)\n",
    "cv2.imshow(\"img_contour\", img_contour2)\n",
    "pause()"
   ]
  },
  {
   "cell_type": "markdown",
   "id": "958ee08b",
   "metadata": {},
   "source": [
    "## 이미지 저장하기"
   ]
  },
  {
   "cell_type": "code",
   "execution_count": 65,
   "id": "df0c9dd2",
   "metadata": {},
   "outputs": [
    {
     "data": {
      "text/plain": [
       "True"
      ]
     },
     "execution_count": 65,
     "metadata": {},
     "output_type": "execute_result"
    }
   ],
   "source": [
    "result = img_contour2.astype(np.uint8)\n",
    "cv2.imwrite('result_final2.jpg', result)"
   ]
  }
 ],
 "metadata": {
  "kernelspec": {
   "display_name": "Python 3 (ipykernel)",
   "language": "python",
   "name": "python3"
  },
  "language_info": {
   "codemirror_mode": {
    "name": "ipython",
    "version": 3
   },
   "file_extension": ".py",
   "mimetype": "text/x-python",
   "name": "python",
   "nbconvert_exporter": "python",
   "pygments_lexer": "ipython3",
   "version": "3.8.12"
  }
 },
 "nbformat": 4,
 "nbformat_minor": 5
}
